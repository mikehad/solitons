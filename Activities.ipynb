{
 "cells": [
  {
   "cell_type": "markdown",
   "metadata": {
    "deletable": false,
    "editable": false,
    "nbgrader": {
     "checksum": "f8b206a5348166ebf30c8c9c755a7982",
     "grade": false,
     "grade_id": "cell-d539d4764d26a3c3",
     "locked": true,
     "schema_version": 1,
     "solution": false
    }
   },
   "source": [
    "# Numerical Recipes Workshop 1\n",
    "For the week of 23-27 September, 2019\n",
    "\n",
    "These activities will start with a small Python/NumPy refresher and then cover some things related to lectures 1/2 and the first part of Checkpoint 1.\n",
    "\n",
    "**Please hand in your notebook via Noteable at the end of the workshop.**\n",
    "\n",
    "They will not be graded and you will not receive feedback on them, but we want to test the submission process to make sure it's working for the checkpoints.\n",
    "\n",
    "Please spend the first hour of the workshop with this notebook before starting on the checkpoint. **TAs will not answer questions about the checkpoints until the second hour of the workshop.**"
   ]
  },
  {
   "cell_type": "markdown",
   "metadata": {
    "deletable": false,
    "editable": false,
    "nbgrader": {
     "checksum": "17cb08627df485ca42e8aa68316eea18",
     "grade": false,
     "grade_id": "cell-145213474bac13bd",
     "locked": true,
     "schema_version": 1,
     "solution": false
    }
   },
   "source": [
    "## Documentation\n",
    "* Python: https://docs.python.org/3.7/\n",
    "* NumPy: https://numpy.org/doc/1.17/user/index.html\n",
    "* SciPy: https://docs.scipy.org/doc/scipy/reference/\n",
    "* matplotlib: https://matplotlib.org/3.1.0/index.html\n",
    "\n",
    "Advice: google is really helpful (e.g. \"numpy trapezoid rule\")"
   ]
  },
  {
   "cell_type": "markdown",
   "metadata": {
    "deletable": false,
    "editable": false,
    "nbgrader": {
     "checksum": "a554213c206206d6109d1a5fc5861205",
     "grade": false,
     "grade_id": "cell-040323190d92ea45",
     "locked": true,
     "schema_version": 1,
     "solution": false
    }
   },
   "source": [
    "## Python/package Versions\n",
    "\n",
    "It's good to know what versions of Python and various packages you're using. Answers can be different or known bugs may exist in specific versions.\n",
    "\n",
    "Use sys package for Python version. Most external packages have a `__version__` attribute associated with the top level import."
   ]
  },
  {
   "cell_type": "code",
   "execution_count": 1,
   "metadata": {},
   "outputs": [
    {
     "name": "stdout",
     "output_type": "stream",
     "text": [
      "3.6.8 (default, Apr 25 2019, 21:02:35) \n",
      "[GCC 4.8.5 20150623 (Red Hat 4.8.5-36)]\n",
      "1.2.1\n"
     ]
    }
   ],
   "source": [
    "# Python version\n",
    "import sys\n",
    "print(sys.version)\n",
    "# Scipy version\n",
    "import scipy\n",
    "print(scipy.__version__)\n",
    "# Try numpy and matplotlib"
   ]
  },
  {
   "cell_type": "markdown",
   "metadata": {
    "deletable": false,
    "editable": false,
    "nbgrader": {
     "checksum": "8610a64135da418e2b7394ae50f463cf",
     "grade": false,
     "grade_id": "cell-464564c5c460e773",
     "locked": true,
     "schema_version": 1,
     "solution": false
    }
   },
   "source": [
    "## The two most useful functions in Python\n",
    "* `dir` - list all names (variables, functions, etc) in the given scope, i.e., what's in here? Try the following:\n",
    "```\n",
    "# top level name space\n",
    "dir()\n",
    "x = 1\n",
    "dir()\n",
    "```\n",
    "```\n",
    "import sys\n",
    "# contents of the sys module\n",
    "dir(sys)\n",
    "```\n",
    "\n",
    "* `help` - show documentation for a function or object.\n",
    "```\n",
    "import numpy as np\n",
    "help(np.sum)\n",
    "```\n",
    "\n",
    "#### Use `dir` to see what's in the NumPy module. Pick a random function and see what it does."
   ]
  },
  {
   "cell_type": "code",
   "execution_count": 2,
   "metadata": {},
   "outputs": [
    {
     "data": {
      "text/plain": [
       "['In',\n",
       " 'Out',\n",
       " '_',\n",
       " '__',\n",
       " '___',\n",
       " '__builtin__',\n",
       " '__builtins__',\n",
       " '__doc__',\n",
       " '__loader__',\n",
       " '__name__',\n",
       " '__package__',\n",
       " '__spec__',\n",
       " '_dh',\n",
       " '_i',\n",
       " '_i1',\n",
       " '_i2',\n",
       " '_ih',\n",
       " '_ii',\n",
       " '_iii',\n",
       " '_oh',\n",
       " 'exit',\n",
       " 'get_ipython',\n",
       " 'quit',\n",
       " 'scipy',\n",
       " 'sys',\n",
       " 'x']"
      ]
     },
     "execution_count": 2,
     "metadata": {},
     "output_type": "execute_result"
    }
   ],
   "source": [
    "dir()\n",
    "x = 1\n",
    "dir()"
   ]
  },
  {
   "cell_type": "markdown",
   "metadata": {
    "deletable": false,
    "editable": false,
    "nbgrader": {
     "checksum": "f4ca728a6b81b01a87145b5bd86d7d2a",
     "grade": false,
     "grade_id": "cell-a8fa2434d055758a",
     "locked": true,
     "schema_version": 1,
     "solution": false
    }
   },
   "source": [
    "## Best Practices\n",
    "\n",
    "* Put module imports at the top in the first code cell.\n",
    "* Rename modules to keep names short.\n",
    "```\n",
    "# Too long!\n",
    "import numpy\n",
    "x = numpy.arange(10)\n",
    "```\n",
    "```\n",
    "# Much better\n",
    "import numpy as np\n",
    "x = np.arange(10)\n",
    "```\n",
    "* Don't do `from MODULE import *`. Every available object will be in your namespace.\n",
    "```\n",
    "from scipy import *\n",
    "dir() # aaah!\n",
    "```\n",
    "* Be careful with variable names. Just about everything can be overwritten.\n",
    "```\n",
    "dir = 5\n",
    "dir()\n",
    "# The dir function is now lost. Doom.\n",
    "```\n",
    "* Use tab completion to recall function/object names. Start typing something and hit the [tab] key a couple times to bring up a menu of matching options. Use this in the terminal, too. Don't waste time typing long names.\n",
    "```\n",
    "np.su[tab][tab]\n",
    "```\n",
    "* If things are getting messy, restart the kernel using one of the *Restart* commands in the *Kernel* menu. This will reset your session, removing bad imports and extra variables.\n",
    "* Cell taking too long to run? From *Kernel* menu, click *Interrupt* to stop execution. Have a look at the traceback to see where the code was. This can give a hint as to why it's taking so long.\n",
    "* Keep it neat. Someone is most likely going to have to read your code someday. It should look nice, be clear, and conform to the style of code that was already there.\n",
    "\n",
    "### Plotting tips\n",
    "* add `%matplotlib inline` your import cell to get plots to show up in the notebook\n",
    "```\n",
    "from matplotlib import pyplot as plt\n",
    "%matplotlib inline\n",
    "```\n",
    "* add the following in a separate cell to make defautl plot and font sizes bigger\n",
    "```\n",
    "pyplot.rcParams['figure.figsize'] = (10, 6) # inches\n",
    "pyplot.rcParams['font.size'] = 14\n",
    "```"
   ]
  },
  {
   "cell_type": "markdown",
   "metadata": {
    "deletable": false,
    "editable": false,
    "nbgrader": {
     "checksum": "d67a696126fccae3245c0021e1fb6221",
     "grade": false,
     "grade_id": "cell-cd5ddbc036063707",
     "locked": true,
     "schema_version": 1,
     "solution": false
    }
   },
   "source": [
    "# Activities"
   ]
  },
  {
   "cell_type": "markdown",
   "metadata": {
    "deletable": false,
    "editable": false,
    "nbgrader": {
     "checksum": "bc25939b9c57e13ec2005c53e9a646c1",
     "grade": false,
     "grade_id": "cell-beb45e2516cbe3cf",
     "locked": true,
     "schema_version": 1,
     "solution": false
    }
   },
   "source": [
    "## Integer and floating point precision\n",
    "Not all programming languages have fancy [arbitrary precision integers](https://rushter.com/blog/python-integer-implementation/). NumPy arrays of integers and floats will have limited precision.\n",
    "\n",
    "#### Integer types\n",
    "* `np.int8`, `np.int16`, `np.int32`, `np.int64`\n",
    "* `np.uint8`, `np.uint16`, `np.uint32`, `np.uint64`\n",
    "\n",
    "#### Floating point types\n",
    "* `np.float16`, `np.float32`, `np.float64`, `np.float128`\n",
    "\n",
    "Use the `np.iinfo` (for ints) and `np.finfo` (for floats) commands to see the limitations of some of these variable types, i.e. what do you get from `np.iinfo(np.int32)`?"
   ]
  },
  {
   "cell_type": "code",
   "execution_count": 3,
   "metadata": {
    "deletable": false,
    "editable": false,
    "nbgrader": {
     "checksum": "9965092d544efc2f1f916d5f9470ecb9",
     "grade": false,
     "grade_id": "cell-51b41d090c464ed0",
     "locked": true,
     "schema_version": 1,
     "solution": false
    }
   },
   "outputs": [],
   "source": [
    "import numpy as np"
   ]
  },
  {
   "cell_type": "code",
   "execution_count": 7,
   "metadata": {},
   "outputs": [
    {
     "data": {
      "text/plain": [
       "finfo(resolution=1e-15, min=-1.7976931348623157e+308, max=1.7976931348623157e+308, dtype=float64)"
      ]
     },
     "execution_count": 7,
     "metadata": {},
     "output_type": "execute_result"
    }
   ],
   "source": [
    "np.finfo(np.float64)"
   ]
  },
  {
   "cell_type": "markdown",
   "metadata": {
    "deletable": false,
    "editable": false,
    "nbgrader": {
     "checksum": "73c87620273b989e30f4b443e59f68d0",
     "grade": false,
     "grade_id": "cell-5580f5f8c2915642",
     "locked": true,
     "schema_version": 1,
     "solution": false
    }
   },
   "source": [
    "See what happens when an upper or lower limit is exceeded. Try a few different types."
   ]
  },
  {
   "cell_type": "code",
   "execution_count": 8,
   "metadata": {},
   "outputs": [
    {
     "name": "stdout",
     "output_type": "stream",
     "text": [
      "[125 126 127]\n",
      "[ 126  127 -128]\n"
     ]
    }
   ],
   "source": [
    "x = np.array([125, 126, 127], dtype=np.int8)\n",
    "print(x)\n",
    "x += 1\n",
    "print(x)"
   ]
  },
  {
   "cell_type": "markdown",
   "metadata": {
    "deletable": false,
    "editable": false,
    "nbgrader": {
     "checksum": "25e444df763515a535c1d967806a6a2c",
     "grade": false,
     "grade_id": "cell-683ddf9c918eb860",
     "locked": true,
     "schema_version": 1,
     "solution": false
    }
   },
   "source": [
    "Floating point numbers have an attribute called *resolution*. Demonstrate the meaning of this term with the array below."
   ]
  },
  {
   "cell_type": "code",
   "execution_count": 17,
   "metadata": {},
   "outputs": [
    {
     "name": "stdout",
     "output_type": "stream",
     "text": [
      "[1.e+03 1.e+02 1.e+01 1.e+00 1.e-01] [1.0000000e+06 1.0000000e+04 1.0000000e+02 1.0000000e+00 1.0000001e-02]\n"
     ]
    }
   ],
   "source": [
    "y = np.array([1000, 100, 10, 1, 0.1], dtype=np.float32)\n",
    "print(y,y*y)"
   ]
  },
  {
   "cell_type": "markdown",
   "metadata": {
    "deletable": false,
    "editable": false,
    "nbgrader": {
     "checksum": "8df9217d0f81219af280acfc3e8a0936",
     "grade": false,
     "grade_id": "cell-63fea32361fb7d86",
     "locked": true,
     "schema_version": 1,
     "solution": false
    }
   },
   "source": [
    "## NumPy arrays: why bother?\n",
    "NumPy arrays can be manipulated all at once without having to explicitly iterate over each value. NumPy operations are also significantly faster."
   ]
  },
  {
   "cell_type": "code",
   "execution_count": 10,
   "metadata": {
    "deletable": false,
    "editable": false,
    "nbgrader": {
     "checksum": "d9b1d61b07ec0f1daa0e0db06cd2de82",
     "grade": false,
     "grade_id": "cell-a8073cefe127bb09",
     "locked": true,
     "schema_version": 1,
     "solution": false
    }
   },
   "outputs": [],
   "source": [
    "import time"
   ]
  },
  {
   "cell_type": "code",
   "execution_count": 12,
   "metadata": {},
   "outputs": [
    {
     "name": "stdout",
     "output_type": "stream",
     "text": [
      "That took 1.255832 seconds.\n"
     ]
    }
   ],
   "source": [
    "# with lists\n",
    "z = list(range(10000000))\n",
    "\n",
    "t1 = time.time()\n",
    "for i in range(len(z)):\n",
    "    z[i] += 1\n",
    "t2 = time.time()\n",
    "print(\"That took %f seconds.\" % (t2-t1))"
   ]
  },
  {
   "cell_type": "code",
   "execution_count": 13,
   "metadata": {},
   "outputs": [
    {
     "name": "stdout",
     "output_type": "stream",
     "text": [
      "That took 0.012720 seconds.\n"
     ]
    }
   ],
   "source": [
    "# with arrays\n",
    "z = list(range(10000000))\n",
    "za = np.array(z)\n",
    "\n",
    "t1 = time.time()\n",
    "za += 1\n",
    "t2 = time.time()\n",
    "print(\"That took %f seconds.\" % (t2-t1))"
   ]
  },
  {
   "cell_type": "markdown",
   "metadata": {
    "deletable": false,
    "editable": false,
    "nbgrader": {
     "checksum": "262a2886abd5308d05caebdfdff46f3e",
     "grade": false,
     "grade_id": "cell-aa98c8f93415dae1",
     "locked": true,
     "schema_version": 1,
     "solution": false
    }
   },
   "source": [
    "### Some useful NumPy array generator functions.\n",
    "* `np.arange`\n",
    "* `np.linspace`\n",
    "* `np.logspace`\n",
    "* `np.ones`, `np.ones_like`\n",
    "* `np.zeros`, `np.zeros_like`\n",
    "\n",
    "Try them out. Feel free to make notes for yourself."
   ]
  },
  {
   "cell_type": "code",
   "execution_count": 14,
   "metadata": {},
   "outputs": [
    {
     "ename": "AttributeError",
     "evalue": "module 'numpy' has no attribute 'arrange'",
     "output_type": "error",
     "traceback": [
      "\u001b[0;31m---------------------------------------------------------------------------\u001b[0m",
      "\u001b[0;31mAttributeError\u001b[0m                            Traceback (most recent call last)",
      "\u001b[0;32m<ipython-input-14-eea590f2c1ce>\u001b[0m in \u001b[0;36m<module>\u001b[0;34m\u001b[0m\n\u001b[0;32m----> 1\u001b[0;31m \u001b[0mnp\u001b[0m\u001b[0;34m.\u001b[0m\u001b[0marrange\u001b[0m\u001b[0;34m(\u001b[0m\u001b[0;34m)\u001b[0m\u001b[0;34m\u001b[0m\u001b[0;34m\u001b[0m\u001b[0m\n\u001b[0m",
      "\u001b[0;31mAttributeError\u001b[0m: module 'numpy' has no attribute 'arrange'"
     ]
    }
   ],
   "source": []
  },
  {
   "cell_type": "markdown",
   "metadata": {
    "deletable": false,
    "editable": false,
    "nbgrader": {
     "checksum": "99166638894f4b3c00acea855c90a158",
     "grade": false,
     "grade_id": "cell-d8dc969b6f18b558",
     "locked": true,
     "schema_version": 1,
     "solution": false
    }
   },
   "source": [
    "## Plotting\n",
    "Some useful plotting commands:\n",
    "* `plt.plot`\n",
    "* `plt.semilogx`, `plt.semilogy`\n",
    "* `plt.loglog`\n",
    "* `plt.scatter`\n",
    "* `plt.xlim`, `plt.ylim`\n",
    "* `plt.xlabel`, `plt.ylabel`\n",
    "* `plt.legend`\n",
    "* `plt.title`\n",
    "* `plt.xscale`, `plt.yscale`\n",
    "\n",
    "See [here](https://matplotlib.org/api/pyplot_summary.html) for a list of all plotting commands.\n",
    "\n",
    "When making plots for checkpoints, always label the axes. Make them look nice."
   ]
  },
  {
   "cell_type": "markdown",
   "metadata": {
    "deletable": false,
    "editable": false,
    "nbgrader": {
     "checksum": "4d120a2cdde0bf88eb7709e9d40ea36d",
     "grade": false,
     "grade_id": "cell-4d0b613332d24d26",
     "locked": true,
     "schema_version": 1,
     "solution": false
    }
   },
   "source": [
    "A Gaussian distribution with mean, $\\mu$, and variance, $\\sigma^2$, takes the form:\n",
    "\n",
    "$\n",
    "\\begin{align}\n",
    "\\Large\n",
    "f(x) = \\frac{1}{2\\pi\\sigma^{2}} e^{-\\frac{(x - \\mu)^2}{2\\sigma^{2}}}\n",
    "\\end{align}\n",
    "$\n",
    "\n",
    "Make a plot of this function over the range [-5, 5] for a couple values of $\\mu$ and $\\sigma$ with appropriate labels and a legend. Hint, the `label` keyword can be given to the plotting commands to aid in making the legend. Try different combinations of linear and log-space plots."
   ]
  },
  {
   "cell_type": "markdown",
   "metadata": {},
   "source": [
    "First, code up a function for the Gaussian distribution. We'll use it here and there."
   ]
  },
  {
   "cell_type": "code",
   "execution_count": null,
   "metadata": {
    "deletable": false,
    "nbgrader": {
     "checksum": "9860cd5f4cf0ed77070823cdc45cc557",
     "grade": false,
     "grade_id": "cell-60dc027608ded4c0",
     "locked": false,
     "schema_version": 1,
     "solution": true
    }
   },
   "outputs": [],
   "source": [
    "def my_gaussian(x, mu=0, sigma=1):\n",
    "# YOUR CODE HERE\n",
    "raise NotImplementedError()"
   ]
  },
  {
   "cell_type": "markdown",
   "metadata": {},
   "source": [
    "Running the cell below will test your function with a few values."
   ]
  },
  {
   "cell_type": "code",
   "execution_count": null,
   "metadata": {
    "deletable": false,
    "editable": false,
    "nbgrader": {
     "checksum": "f645257bb9114fb67ead36b3c0bf8422",
     "grade": true,
     "grade_id": "cell-b2673774124214e2",
     "locked": true,
     "points": 0,
     "schema_version": 1,
     "solution": false
    }
   },
   "outputs": [],
   "source": [
    "assert (my_gaussian(0) - 0.3989422804014327 < 1e-7)\n",
    "assert (my_gaussian(1) - 0.24197072451914337 < 1e-7)"
   ]
  },
  {
   "cell_type": "code",
   "execution_count": null,
   "metadata": {
    "deletable": false,
    "editable": false,
    "nbgrader": {
     "checksum": "aee5009f46cd862a05e637352b2d13db",
     "grade": false,
     "grade_id": "cell-f2942bafb397f886",
     "locked": true,
     "schema_version": 1,
     "solution": false
    }
   },
   "outputs": [],
   "source": [
    "from matplotlib import pyplot as plt\n",
    "%matplotlib inline\n",
    "import numpy as np"
   ]
  },
  {
   "cell_type": "code",
   "execution_count": null,
   "metadata": {
    "deletable": false,
    "editable": false,
    "nbgrader": {
     "checksum": "79de1e39e1b972ea265dc26d06d7dedb",
     "grade": false,
     "grade_id": "cell-3a6a2acc13602956",
     "locked": true,
     "schema_version": 1,
     "solution": false
    }
   },
   "outputs": [],
   "source": [
    "plt.rcParams['figure.figsize'] = (10, 6) # inches\n",
    "plt.rcParams['font.size'] = 14"
   ]
  },
  {
   "cell_type": "code",
   "execution_count": null,
   "metadata": {},
   "outputs": [],
   "source": [
    "# Make plots here!"
   ]
  },
  {
   "cell_type": "markdown",
   "metadata": {
    "deletable": false,
    "editable": false,
    "nbgrader": {
     "checksum": "bd6cc7aa17ce116a83b57d1eff69971a",
     "grade": false,
     "grade_id": "cell-7ebbed7d8095f94f",
     "locked": true,
     "schema_version": 1,
     "solution": false
    }
   },
   "source": [
    "## Integration\n",
    "Simple integration/summation can be done with basic array operations, i.e., not using fancy integration functions. Some useful functions:\n",
    "* `np.sum`, `np.cumsum`\n",
    "\n",
    "Note, many operations available directly from an array:\n",
    "```\n",
    "x = np.array([0, 1])\n",
    "print (x.sum())\n",
    "print (x.cumsum())\n",
    "print (x.mean(), x.min(), x.max(), x.size)\n",
    "```\n",
    "\n",
    "Scipy has many [useful integration functions](https://docs.scipy.org/doc/scipy/reference/tutorial/integrate.html).\n",
    "\n",
    "To import one of those, you'll need to do:\n",
    "```\n",
    "from scipy.integrate import FUNCTION\n",
    "```\n",
    "\n",
    "Note, some of the scipy integrators require a function be given as one of the arguments. Other expect arrays of values. Read their documentation."
   ]
  },
  {
   "cell_type": "markdown",
   "metadata": {
    "deletable": false,
    "editable": false,
    "nbgrader": {
     "checksum": "5c77662ea30244c9eda0305dd6072463",
     "grade": false,
     "grade_id": "cell-bd6ac5845ceaeb21",
     "locked": true,
     "schema_version": 1,
     "solution": false
    }
   },
   "source": [
    "Integrate the Gaussian distribution from -5$\\sigma$ to +5$\\sigma$ using a few of the integration functions, like the trapezoidal rule and Simpson's rule. How quickly do the answers converge as a function of the number of points used?\n",
    "\n",
    "Bonus: approximations like the trapezoidal rule and Simpson's rule can be coded up as vector operations in a few lines. Try this if you feel like."
   ]
  },
  {
   "cell_type": "code",
   "execution_count": null,
   "metadata": {},
   "outputs": [],
   "source": []
  }
 ],
 "metadata": {
  "kernelspec": {
   "display_name": "Python 3",
   "language": "python",
   "name": "python3"
  },
  "language_info": {
   "codemirror_mode": {
    "name": "ipython",
    "version": 3
   },
   "file_extension": ".py",
   "mimetype": "text/x-python",
   "name": "python",
   "nbconvert_exporter": "python",
   "pygments_lexer": "ipython3",
   "version": "3.6.8"
  }
 },
 "nbformat": 4,
 "nbformat_minor": 2
}
